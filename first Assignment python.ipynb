{
 "cells": [
  {
   "cell_type": "markdown",
   "id": "17d32b67",
   "metadata": {},
   "source": [
    "Q1. Define each data type, and give an example."
   ]
  },
  {
   "cell_type": "code",
   "execution_count": 2,
   "id": "89b9d595",
   "metadata": {},
   "outputs": [
    {
     "data": {
      "text/plain": [
       "int"
      ]
     },
     "execution_count": 2,
     "metadata": {},
     "output_type": "execute_result"
    }
   ],
   "source": [
    "type (30)"
   ]
  },
  {
   "cell_type": "code",
   "execution_count": 6,
   "id": "b221504a",
   "metadata": {},
   "outputs": [
    {
     "data": {
      "text/plain": [
       "float"
      ]
     },
     "execution_count": 6,
     "metadata": {},
     "output_type": "execute_result"
    }
   ],
   "source": [
    "type (35.23)"
   ]
  },
  {
   "cell_type": "code",
   "execution_count": 7,
   "id": "35b7d14e",
   "metadata": {},
   "outputs": [
    {
     "data": {
      "text/plain": [
       "str"
      ]
     },
     "execution_count": 7,
     "metadata": {},
     "output_type": "execute_result"
    }
   ],
   "source": [
    "type(\"40\")"
   ]
  },
  {
   "cell_type": "markdown",
   "id": "3ad9941d",
   "metadata": {},
   "source": [
    "Q2. What data type is each value? Use the type function to verify."
   ]
  },
  {
   "cell_type": "code",
   "execution_count": 4,
   "id": "f6663fb5",
   "metadata": {},
   "outputs": [
    {
     "data": {
      "text/plain": [
       "int"
      ]
     },
     "execution_count": 4,
     "metadata": {},
     "output_type": "execute_result"
    }
   ],
   "source": [
    "type(3)"
   ]
  },
  {
   "cell_type": "code",
   "execution_count": 5,
   "id": "5747a14a",
   "metadata": {},
   "outputs": [
    {
     "data": {
      "text/plain": [
       "float"
      ]
     },
     "execution_count": 5,
     "metadata": {},
     "output_type": "execute_result"
    }
   ],
   "source": [
    "type(6.0)"
   ]
  },
  {
   "cell_type": "code",
   "execution_count": 8,
   "id": "2622e521",
   "metadata": {},
   "outputs": [
    {
     "data": {
      "text/plain": [
       "str"
      ]
     },
     "execution_count": 8,
     "metadata": {},
     "output_type": "execute_result"
    }
   ],
   "source": [
    "type(\"3.14159\")"
   ]
  },
  {
   "cell_type": "code",
   "execution_count": 9,
   "id": "d013fd1b",
   "metadata": {},
   "outputs": [
    {
     "data": {
      "text/plain": [
       "float"
      ]
     },
     "execution_count": 9,
     "metadata": {},
     "output_type": "execute_result"
    }
   ],
   "source": [
    "type(4.5)"
   ]
  },
  {
   "cell_type": "code",
   "execution_count": 10,
   "id": "8b4144aa",
   "metadata": {},
   "outputs": [
    {
     "data": {
      "text/plain": [
       "str"
      ]
     },
     "execution_count": 10,
     "metadata": {},
     "output_type": "execute_result"
    }
   ],
   "source": [
    "type ('hello')"
   ]
  },
  {
   "cell_type": "code",
   "execution_count": 11,
   "id": "89725bb9",
   "metadata": {},
   "outputs": [
    {
     "data": {
      "text/plain": [
       "str"
      ]
     },
     "execution_count": 11,
     "metadata": {},
     "output_type": "execute_result"
    }
   ],
   "source": [
    "type ('math.pi')"
   ]
  },
  {
   "cell_type": "markdown",
   "id": "f609189b",
   "metadata": {},
   "source": [
    "3. Use the type function to identify the data type of each result. Are there any that do not work?"
   ]
  },
  {
   "cell_type": "code",
   "execution_count": 12,
   "id": "bcd1d2cf",
   "metadata": {},
   "outputs": [
    {
     "data": {
      "text/plain": [
       "int"
      ]
     },
     "execution_count": 12,
     "metadata": {},
     "output_type": "execute_result"
    }
   ],
   "source": [
    "type(3+7)"
   ]
  },
  {
   "cell_type": "code",
   "execution_count": 13,
   "id": "af18486f",
   "metadata": {},
   "outputs": [
    {
     "data": {
      "text/plain": [
       "float"
      ]
     },
     "execution_count": 13,
     "metadata": {},
     "output_type": "execute_result"
    }
   ],
   "source": [
    "type(6/3.0)"
   ]
  },
  {
   "cell_type": "code",
   "execution_count": 14,
   "id": "5a9f0f1d",
   "metadata": {},
   "outputs": [
    {
     "data": {
      "text/plain": [
       "float"
      ]
     },
     "execution_count": 14,
     "metadata": {},
     "output_type": "execute_result"
    }
   ],
   "source": [
    "type(5+6.0)"
   ]
  },
  {
   "cell_type": "code",
   "execution_count": 26,
   "id": "0e1dd5b7",
   "metadata": {},
   "outputs": [
    {
     "data": {
      "text/plain": [
       "2.0"
      ]
     },
     "execution_count": 26,
     "metadata": {},
     "output_type": "execute_result"
    }
   ],
   "source": [
    "type(6.0//3.0)"
   ]
  },
  {
   "cell_type": "code",
   "execution_count": 27,
   "id": "0c4ad23c",
   "metadata": {},
   "outputs": [
    {
     "data": {
      "text/plain": [
       "float"
      ]
     },
     "execution_count": 27,
     "metadata": {},
     "output_type": "execute_result"
    }
   ],
   "source": [
    "type(6//3.0)"
   ]
  },
  {
   "cell_type": "code",
   "execution_count": 28,
   "id": "2fb5919c",
   "metadata": {},
   "outputs": [
    {
     "data": {
      "text/plain": [
       "int"
      ]
     },
     "execution_count": 28,
     "metadata": {},
     "output_type": "execute_result"
    }
   ],
   "source": [
    "type(6//3)"
   ]
  },
  {
   "cell_type": "code",
   "execution_count": 23,
   "id": "9386aa6c",
   "metadata": {},
   "outputs": [
    {
     "data": {
      "text/plain": [
       "2.0"
      ]
     },
     "execution_count": 23,
     "metadata": {},
     "output_type": "execute_result"
    }
   ],
   "source": [
    "(6/3)"
   ]
  },
  {
   "cell_type": "code",
   "execution_count": 29,
   "id": "b7ad2ace",
   "metadata": {},
   "outputs": [
    {
     "data": {
      "text/plain": [
       "'python'"
      ]
     },
     "execution_count": 29,
     "metadata": {},
     "output_type": "execute_result"
    }
   ],
   "source": [
    "(\"py\"+\"thon\")"
   ]
  },
  {
   "cell_type": "code",
   "execution_count": 30,
   "id": "1ef01e4a",
   "metadata": {},
   "outputs": [
    {
     "data": {
      "text/plain": [
       "str"
      ]
     },
     "execution_count": 30,
     "metadata": {},
     "output_type": "execute_result"
    }
   ],
   "source": [
    "type('py'+\"thon\")"
   ]
  },
  {
   "cell_type": "code",
   "execution_count": 33,
   "id": "b1f10305",
   "metadata": {},
   "outputs": [
    {
     "ename": "TypeError",
     "evalue": "can only concatenate str (not \"int\") to str",
     "output_type": "error",
     "traceback": [
      "\u001b[1;31m---------------------------------------------------------------------------\u001b[0m",
      "\u001b[1;31mTypeError\u001b[0m                                 Traceback (most recent call last)",
      "Cell \u001b[1;32mIn[33], line 1\u001b[0m\n\u001b[1;32m----> 1\u001b[0m \u001b[38;5;28mtype\u001b[39m(\u001b[38;5;124m\"\u001b[39m\u001b[38;5;124mHigh\u001b[39m\u001b[38;5;124m\"\u001b[39m \u001b[38;5;241m+\u001b[39m \u001b[38;5;241m5\u001b[39m)\n",
      "\u001b[1;31mTypeError\u001b[0m: can only concatenate str (not \"int\") to str"
     ]
    }
   ],
   "source": [
    "type(\"High\" + 5) # the 5 is not a string"
   ]
  },
  {
   "cell_type": "markdown",
   "id": "7094e2a5",
   "metadata": {},
   "source": [
    "## Variables \n",
    "4.Which variable names are acceptable, and which are not? If a variable name is unacceptable,\n",
    "explain why."
   ]
  },
  {
   "cell_type": "code",
   "execution_count": 56,
   "id": "346c1931",
   "metadata": {},
   "outputs": [],
   "source": [
    "num= \"num1\""
   ]
  },
  {
   "cell_type": "code",
   "execution_count": 57,
   "id": "896a4a3e",
   "metadata": {},
   "outputs": [
    {
     "data": {
      "text/plain": [
       "'num1'"
      ]
     },
     "execution_count": 57,
     "metadata": {},
     "output_type": "execute_result"
    }
   ],
   "source": [
    "num"
   ]
  },
  {
   "cell_type": "code",
   "execution_count": 58,
   "id": "6a92f281",
   "metadata": {},
   "outputs": [],
   "source": [
    "_count= \"_count1\""
   ]
  },
  {
   "cell_type": "code",
   "execution_count": 59,
   "id": "fdc136f4",
   "metadata": {},
   "outputs": [
    {
     "data": {
      "text/plain": [
       "'_count1'"
      ]
     },
     "execution_count": 59,
     "metadata": {},
     "output_type": "execute_result"
    }
   ],
   "source": [
    "_count"
   ]
  },
  {
   "cell_type": "code",
   "execution_count": 60,
   "id": "ed184e0f",
   "metadata": {},
   "outputs": [],
   "source": [
    "card_2=\"card 21\""
   ]
  },
  {
   "cell_type": "code",
   "execution_count": 61,
   "id": "c20bc922",
   "metadata": {},
   "outputs": [
    {
     "data": {
      "text/plain": [
       "'card 21'"
      ]
     },
     "execution_count": 61,
     "metadata": {},
     "output_type": "execute_result"
    }
   ],
   "source": [
    "card_2"
   ]
  },
  {
   "cell_type": "code",
   "execution_count": 62,
   "id": "43938be4",
   "metadata": {},
   "outputs": [],
   "source": [
    "AGE=\"AGEd\""
   ]
  },
  {
   "cell_type": "code",
   "execution_count": 63,
   "id": "d3f24321",
   "metadata": {},
   "outputs": [
    {
     "data": {
      "text/plain": [
       "'AGEd'"
      ]
     },
     "execution_count": 63,
     "metadata": {},
     "output_type": "execute_result"
    }
   ],
   "source": [
    "AGE"
   ]
  },
  {
   "cell_type": "code",
   "execution_count": 66,
   "id": "a8ea3bf6",
   "metadata": {},
   "outputs": [
    {
     "ename": "SyntaxError",
     "evalue": "invalid decimal literal (3912855415.py, line 1)",
     "output_type": "error",
     "traceback": [
      "\u001b[1;36m  Cell \u001b[1;32mIn[66], line 1\u001b[1;36m\u001b[0m\n\u001b[1;33m    2nd_card=\"2nd_card1\" # because the variable name start with nos\u001b[0m\n\u001b[1;37m    ^\u001b[0m\n\u001b[1;31mSyntaxError\u001b[0m\u001b[1;31m:\u001b[0m invalid decimal literal\n"
     ]
    }
   ],
   "source": [
    "2nd_card=\"2nd_card1\" # because the variable name start with nos"
   ]
  },
  {
   "cell_type": "code",
   "execution_count": 70,
   "id": "06cfc942",
   "metadata": {},
   "outputs": [
    {
     "ename": "SyntaxError",
     "evalue": "invalid syntax (3976974546.py, line 1)",
     "output_type": "error",
     "traceback": [
      "\u001b[1;36m  Cell \u001b[1;32mIn[70], line 1\u001b[1;36m\u001b[0m\n\u001b[1;33m    lambda =\"lambda\"\u001b[0m\n\u001b[1;37m           ^\u001b[0m\n\u001b[1;31mSyntaxError\u001b[0m\u001b[1;31m:\u001b[0m invalid syntax\n"
     ]
    }
   ],
   "source": [
    "lambda =\"lambda\" #i think lambda is a funtion in python"
   ]
  },
  {
   "cell_type": "code",
   "execution_count": 71,
   "id": "57712807",
   "metadata": {},
   "outputs": [],
   "source": [
    "FiRsTnAmE=\"FiRsTnAmE1\""
   ]
  },
  {
   "cell_type": "code",
   "execution_count": 72,
   "id": "363b6ad8",
   "metadata": {},
   "outputs": [
    {
     "data": {
      "text/plain": [
       "'FiRsTnAmE1'"
      ]
     },
     "execution_count": 72,
     "metadata": {},
     "output_type": "execute_result"
    }
   ],
   "source": [
    "FiRsTnAmE"
   ]
  },
  {
   "cell_type": "code",
   "execution_count": 73,
   "id": "f3d9bcab",
   "metadata": {},
   "outputs": [],
   "source": [
    "card_2= \"card_21\""
   ]
  },
  {
   "cell_type": "code",
   "execution_count": 74,
   "id": "ba673152",
   "metadata": {},
   "outputs": [
    {
     "data": {
      "text/plain": [
       "'card_21'"
      ]
     },
     "execution_count": 74,
     "metadata": {},
     "output_type": "execute_result"
    }
   ],
   "source": [
    "card_2"
   ]
  },
  {
   "cell_type": "markdown",
   "id": "5a09f70c",
   "metadata": {},
   "source": [
    "5. Choose a meaningful variable name to represent each scenario."
   ]
  },
  {
   "cell_type": "code",
   "execution_count": 75,
   "id": "a32cfca9",
   "metadata": {},
   "outputs": [],
   "source": [
    "Ace= 21"
   ]
  },
  {
   "cell_type": "code",
   "execution_count": 76,
   "id": "d75f5539",
   "metadata": {},
   "outputs": [
    {
     "data": {
      "text/plain": [
       "21"
      ]
     },
     "execution_count": 76,
     "metadata": {},
     "output_type": "execute_result"
    }
   ],
   "source": [
    "Ace"
   ]
  },
  {
   "cell_type": "code",
   "execution_count": 77,
   "id": "b226ad0a",
   "metadata": {},
   "outputs": [],
   "source": [
    "emp_sal= 125000"
   ]
  },
  {
   "cell_type": "code",
   "execution_count": 78,
   "id": "07253f33",
   "metadata": {},
   "outputs": [
    {
     "data": {
      "text/plain": [
       "125000"
      ]
     },
     "execution_count": 78,
     "metadata": {},
     "output_type": "execute_result"
    }
   ],
   "source": [
    "emp_sal"
   ]
  },
  {
   "cell_type": "code",
   "execution_count": 79,
   "id": "4bea40b7",
   "metadata": {},
   "outputs": [],
   "source": [
    "dices= 5+2"
   ]
  },
  {
   "cell_type": "code",
   "execution_count": 80,
   "id": "985afdd2",
   "metadata": {},
   "outputs": [
    {
     "data": {
      "text/plain": [
       "7"
      ]
     },
     "execution_count": 80,
     "metadata": {},
     "output_type": "execute_result"
    }
   ],
   "source": [
    "dices"
   ]
  },
  {
   "cell_type": "code",
   "execution_count": 84,
   "id": "65f14c75",
   "metadata": {},
   "outputs": [],
   "source": [
    "temp=\"35c\""
   ]
  },
  {
   "cell_type": "code",
   "execution_count": 85,
   "id": "4242717f",
   "metadata": {},
   "outputs": [
    {
     "data": {
      "text/plain": [
       "'35c'"
      ]
     },
     "execution_count": 85,
     "metadata": {},
     "output_type": "execute_result"
    }
   ],
   "source": [
    "temp"
   ]
  },
  {
   "cell_type": "code",
   "execution_count": null,
   "id": "03990b61",
   "metadata": {},
   "outputs": [],
   "source": [
    "6. Assign the values x=\"house\", y=\"boat\" and z=\"ha\". What is the result of each statement? Which\n",
    "do not work, and why?"
   ]
  },
  {
   "cell_type": "code",
   "execution_count": 86,
   "id": "9acda768",
   "metadata": {},
   "outputs": [],
   "source": [
    "x, y, z =\"house\",\"boat\",\"ha\""
   ]
  },
  {
   "cell_type": "code",
   "execution_count": 87,
   "id": "ce7cd1cd",
   "metadata": {},
   "outputs": [
    {
     "data": {
      "text/plain": [
       "'houseboat'"
      ]
     },
     "execution_count": 87,
     "metadata": {},
     "output_type": "execute_result"
    }
   ],
   "source": [
    "x+y"
   ]
  },
  {
   "cell_type": "code",
   "execution_count": 88,
   "id": "944b6c37",
   "metadata": {},
   "outputs": [
    {
     "data": {
      "text/plain": [
       "'boathouse'"
      ]
     },
     "execution_count": 88,
     "metadata": {},
     "output_type": "execute_result"
    }
   ],
   "source": [
    "y+x"
   ]
  },
  {
   "cell_type": "code",
   "execution_count": 89,
   "id": "904ffac6",
   "metadata": {},
   "outputs": [
    {
     "data": {
      "text/plain": [
       "'hahaha'"
      ]
     },
     "execution_count": 89,
     "metadata": {},
     "output_type": "execute_result"
    }
   ],
   "source": [
    "z*3"
   ]
  },
  {
   "cell_type": "code",
   "execution_count": 90,
   "id": "c9a6b0b9",
   "metadata": {},
   "outputs": [
    {
     "ename": "TypeError",
     "evalue": "can't multiply sequence by non-int of type 'str'",
     "output_type": "error",
     "traceback": [
      "\u001b[1;31m---------------------------------------------------------------------------\u001b[0m",
      "\u001b[1;31mTypeError\u001b[0m                                 Traceback (most recent call last)",
      "Cell \u001b[1;32mIn[90], line 1\u001b[0m\n\u001b[1;32m----> 1\u001b[0m z\u001b[38;5;241m*\u001b[39mx\n",
      "\u001b[1;31mTypeError\u001b[0m: can't multiply sequence by non-int of type 'str'"
     ]
    }
   ],
   "source": [
    "z*x #cant multiply two string"
   ]
  },
  {
   "cell_type": "code",
   "execution_count": 91,
   "id": "79aa6cd4",
   "metadata": {},
   "outputs": [
    {
     "data": {
      "text/plain": [
       "'boat2'"
      ]
     },
     "execution_count": 91,
     "metadata": {},
     "output_type": "execute_result"
    }
   ],
   "source": [
    "y+\"2\""
   ]
  },
  {
   "cell_type": "markdown",
   "id": "2a90c761",
   "metadata": {},
   "source": [
    "7. Assign the values base=10 and height=5. Calculate the area of a triangle using the formula"
   ]
  },
  {
   "cell_type": "code",
   "execution_count": 114,
   "id": "bbd18ff8",
   "metadata": {},
   "outputs": [],
   "source": [
    "b, h, Area = 10, 5, 0"
   ]
  },
  {
   "cell_type": "code",
   "execution_count": 115,
   "id": "9e39427f",
   "metadata": {},
   "outputs": [],
   "source": [
    "Area+=(1/2)*(b*h)"
   ]
  },
  {
   "cell_type": "code",
   "execution_count": 157,
   "id": "72a0e905",
   "metadata": {},
   "outputs": [
    {
     "data": {
      "text/plain": [
       "25.0"
      ]
     },
     "execution_count": 157,
     "metadata": {},
     "output_type": "execute_result"
    }
   ],
   "source": [
    "Area"
   ]
  },
  {
   "cell_type": "markdown",
   "id": "9ffb6a29",
   "metadata": {},
   "source": [
    "8. Execute the following sequence of commands in the shell, then state the final value of k."
   ]
  },
  {
   "cell_type": "code",
   "execution_count": 140,
   "id": "440dbdc6",
   "metadata": {},
   "outputs": [],
   "source": [
    "k=7"
   ]
  },
  {
   "cell_type": "code",
   "execution_count": 141,
   "id": "71662ba0",
   "metadata": {},
   "outputs": [
    {
     "data": {
      "text/plain": [
       "7"
      ]
     },
     "execution_count": 141,
     "metadata": {},
     "output_type": "execute_result"
    }
   ],
   "source": [
    "k"
   ]
  },
  {
   "cell_type": "code",
   "execution_count": 142,
   "id": "7ec07604",
   "metadata": {},
   "outputs": [],
   "source": [
    "k+=3"
   ]
  },
  {
   "cell_type": "code",
   "execution_count": 143,
   "id": "b0a16917",
   "metadata": {},
   "outputs": [
    {
     "data": {
      "text/plain": [
       "10"
      ]
     },
     "execution_count": 143,
     "metadata": {},
     "output_type": "execute_result"
    }
   ],
   "source": [
    "k"
   ]
  },
  {
   "cell_type": "code",
   "execution_count": 144,
   "id": "ebd4d11e",
   "metadata": {},
   "outputs": [],
   "source": [
    "k*=2"
   ]
  },
  {
   "cell_type": "code",
   "execution_count": 145,
   "id": "d930c4ee",
   "metadata": {},
   "outputs": [
    {
     "data": {
      "text/plain": [
       "20"
      ]
     },
     "execution_count": 145,
     "metadata": {},
     "output_type": "execute_result"
    }
   ],
   "source": [
    "k"
   ]
  },
  {
   "cell_type": "code",
   "execution_count": 146,
   "id": "8533dcbe",
   "metadata": {},
   "outputs": [],
   "source": [
    "k-=5"
   ]
  },
  {
   "cell_type": "code",
   "execution_count": 147,
   "id": "713ced11",
   "metadata": {},
   "outputs": [
    {
     "data": {
      "text/plain": [
       "15"
      ]
     },
     "execution_count": 147,
     "metadata": {},
     "output_type": "execute_result"
    }
   ],
   "source": [
    "k"
   ]
  },
  {
   "cell_type": "code",
   "execution_count": 148,
   "id": "30834d75",
   "metadata": {},
   "outputs": [],
   "source": [
    "k//=6"
   ]
  },
  {
   "cell_type": "code",
   "execution_count": 149,
   "id": "251d919d",
   "metadata": {},
   "outputs": [
    {
     "data": {
      "text/plain": [
       "2"
      ]
     },
     "execution_count": 149,
     "metadata": {},
     "output_type": "execute_result"
    }
   ],
   "source": [
    "k"
   ]
  },
  {
   "cell_type": "markdown",
   "id": "f9252f24",
   "metadata": {},
   "source": [
    "9. Explain why the following run-time error occurs."
   ]
  },
  {
   "cell_type": "code",
   "execution_count": 150,
   "id": "a5dbb0e6",
   "metadata": {},
   "outputs": [],
   "source": [
    ">>> number=8"
   ]
  },
  {
   "cell_type": "code",
   "execution_count": 158,
   "id": "ec691cef",
   "metadata": {},
   "outputs": [
    {
     "ename": "NameError",
     "evalue": "name 'Number' is not defined",
     "output_type": "error",
     "traceback": [
      "\u001b[1;31m---------------------------------------------------------------------------\u001b[0m",
      "\u001b[1;31mNameError\u001b[0m                                 Traceback (most recent call last)",
      "Cell \u001b[1;32mIn[158], line 1\u001b[0m\n\u001b[1;32m----> 1\u001b[0m Number \u001b[38;5;241m+\u001b[39m\u001b[38;5;241m=\u001b[39m\u001b[38;5;241m1\u001b[39m\n",
      "\u001b[1;31mNameError\u001b[0m: name 'Number' is not defined"
     ]
    }
   ],
   "source": [
    ">>> Number +=1 # the 'Number' is not defined "
   ]
  },
  {
   "cell_type": "markdown",
   "id": "c622f12b",
   "metadata": {},
   "source": [
    "10. Python is a dynamically-typed language: a variable’s data type can change as necessary. Assign the\n",
    "value x=4, then use check its type using the type function. What data type is it? Increment x by 1,\n",
    "using the += operator, then check its type again. Did it change? If so, what data type is it?\n",
    "Increment x by 1.0, then check its type. Did it change? If so, what data type is it?"
   ]
  },
  {
   "cell_type": "code",
   "execution_count": 151,
   "id": "0e1f7774",
   "metadata": {},
   "outputs": [],
   "source": [
    "x=4"
   ]
  },
  {
   "cell_type": "code",
   "execution_count": 152,
   "id": "c617ec48",
   "metadata": {},
   "outputs": [
    {
     "data": {
      "text/plain": [
       "int"
      ]
     },
     "execution_count": 152,
     "metadata": {},
     "output_type": "execute_result"
    }
   ],
   "source": [
    "type(x)"
   ]
  },
  {
   "cell_type": "code",
   "execution_count": 153,
   "id": "e140dd63",
   "metadata": {},
   "outputs": [],
   "source": [
    "x+=1"
   ]
  },
  {
   "cell_type": "code",
   "execution_count": 154,
   "id": "10f7fdbc",
   "metadata": {},
   "outputs": [
    {
     "data": {
      "text/plain": [
       "int"
      ]
     },
     "execution_count": 154,
     "metadata": {},
     "output_type": "execute_result"
    }
   ],
   "source": [
    "type(x)"
   ]
  },
  {
   "cell_type": "code",
   "execution_count": 155,
   "id": "eed6880d",
   "metadata": {},
   "outputs": [],
   "source": [
    "x+=1.0"
   ]
  },
  {
   "cell_type": "code",
   "execution_count": 156,
   "id": "1a1dac1f",
   "metadata": {},
   "outputs": [
    {
     "data": {
      "text/plain": [
       "float"
      ]
     },
     "execution_count": 156,
     "metadata": {},
     "output_type": "execute_result"
    }
   ],
   "source": [
    "type(x)"
   ]
  },
  {
   "cell_type": "code",
   "execution_count": null,
   "id": "8e5f81c1",
   "metadata": {},
   "outputs": [],
   "source": []
  }
 ],
 "metadata": {
  "kernelspec": {
   "display_name": "Python 3 (ipykernel)",
   "language": "python",
   "name": "python3"
  },
  "language_info": {
   "codemirror_mode": {
    "name": "ipython",
    "version": 3
   },
   "file_extension": ".py",
   "mimetype": "text/x-python",
   "name": "python",
   "nbconvert_exporter": "python",
   "pygments_lexer": "ipython3",
   "version": "3.11.3"
  }
 },
 "nbformat": 4,
 "nbformat_minor": 5
}
